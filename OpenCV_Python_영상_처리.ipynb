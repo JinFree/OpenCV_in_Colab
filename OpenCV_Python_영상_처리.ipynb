{
  "nbformat": 4,
  "nbformat_minor": 0,
  "metadata": {
    "colab": {
      "name": "OpenCV Python 영상 처리.ipynb",
      "provenance": [],
      "collapsed_sections": [],
      "authorship_tag": "ABX9TyMaZ3ccz8Vb3Tl4OahBbulO",
      "include_colab_link": true
    },
    "kernelspec": {
      "name": "python3",
      "display_name": "Python 3"
    },
    "language_info": {
      "name": "python"
    }
  },
  "cells": [
    {
      "cell_type": "markdown",
      "metadata": {
        "id": "view-in-github",
        "colab_type": "text"
      },
      "source": [
        "<a href=\"https://colab.research.google.com/github/JinFree/OpenCV_in_Colab/blob/main/OpenCV_Python_%EC%98%81%EC%83%81_%EC%B2%98%EB%A6%AC.ipynb\" target=\"_parent\"><img src=\"https://colab.research.google.com/assets/colab-badge.svg\" alt=\"Open In Colab\"/></a>"
      ]
    },
    {
      "cell_type": "code",
      "execution_count": 1,
      "metadata": {
        "colab": {
          "base_uri": "https://localhost:8080/"
        },
        "id": "-cgj8_z2S85y",
        "outputId": "aec5b35d-4d4e-47bd-a626-859c347adf0a"
      },
      "outputs": [
        {
          "output_type": "stream",
          "name": "stdout",
          "text": [
            "Cloning into 'OpenCV_in_Ubuntu'...\n",
            "remote: Enumerating objects: 1640, done.\u001b[K\n",
            "remote: Counting objects: 100% (157/157), done.\u001b[K\n",
            "remote: Compressing objects: 100% (135/135), done.\u001b[K\n",
            "remote: Total 1640 (delta 82), reused 54 (delta 22), pack-reused 1483\u001b[K\n",
            "Receiving objects: 100% (1640/1640), 138.49 MiB | 34.95 MiB/s, done.\n",
            "Resolving deltas: 100% (988/988), done.\n",
            "Checking out files: 100% (427/427), done.\n"
          ]
        }
      ],
      "source": [
        "# 실습용 데이터 다운로드\n",
        "!git clone https://github.com/JinFree/OpenCV_in_Ubuntu\n",
        "\n",
        "# 기본 라이브러리 Import\n",
        "import cv2\n",
        "import numpy as np\n",
        "import os\n",
        "from google.colab.patches import cv2_imshow"
      ]
    },
    {
      "cell_type": "code",
      "source": [
        "# 컬러 이미지 열기\n",
        "image_color = cv2.imread(\"/content/OpenCV_in_Ubuntu/Data/Lane_Detection_Images/solidWhiteCurve.jpg\", cv2.IMREAD_COLOR)\n",
        "cv2_imshow(image_color)\n",
        "# 회색조 이미지 열기\n",
        "image_gray = cv2.imread(\"/content/OpenCV_in_Ubuntu/Data/Lane_Detection_Images/solidWhiteCurve.jpg\", cv2.IMREAD_GRAYSCALE)\n",
        "cv2_imshow(image_gray)"
      ],
      "metadata": {
        "id": "ZaQwNSm5TDbX"
      },
      "execution_count": null,
      "outputs": []
    },
    {
      "cell_type": "markdown",
      "source": [
        "### 이미지 정보 확인\n",
        "\n",
        "\n"
      ],
      "metadata": {
        "id": "w_7VsQytWzNg"
      }
    },
    {
      "cell_type": "markdown",
      "source": [
        "너비, 높이\n",
        "\n",
        "\n",
        "```\n",
        "height, width = image.shape[0], image.shape[1]\n",
        "```"
      ],
      "metadata": {
        "id": "bBqeiXiKYGmW"
      }
    },
    {
      "cell_type": "markdown",
      "source": [
        "\n",
        "이미지가 컬러 이미지인지 확인\n",
        "\n",
        "\n",
        "```\n",
        "if len(image.shape) == 2:\n",
        "    print(\"회색조 이미지\")\n",
        "elif len(image.shape) == 3:\n",
        "    print(\"컬러 이미지\")\n",
        "    if image.shape[2] == 3:\n",
        "        print(\"3채널 이미지\")\n",
        "    elif image.shape[2] == 4:\n",
        "        print(\"png 이미지를 unchanged로 연 경우, 4채널 이미지\")\n",
        "```\n"
      ],
      "metadata": {
        "id": "4zEdqljQYKuz"
      }
    },
    {
      "cell_type": "markdown",
      "source": [
        "픽셀 좌표 확인\n",
        "\n",
        "\n",
        "```\n",
        "컬러 이미지인 경우\n",
        "pixel_value = image[y, x, c]\n",
        "이 때, c가 None인 경우 pixel_value는 리스트가 반환됨\n",
        "\n",
        "회색조 이미지인 경우\n",
        "pixel_value = image[y, x]\n",
        "```\n",
        "\n"
      ],
      "metadata": {
        "id": "W88Ki_ERYLZC"
      }
    },
    {
      "cell_type": "markdown",
      "source": [
        "### 색공간\n",
        "\n",
        "색공간 변형\n",
        "\n",
        "\n",
        "```\n",
        "결과_이미지 = cv2.cvtColor(입력_이미지, flag)\n",
        "```\n",
        "[cvtColor flag에 대한 정보](https://docs.opencv.org/4.5.4/d8/d01/group__imgproc__color__conversions.html)\n"
      ],
      "metadata": {
        "id": "tbIlgkeAWK21"
      }
    },
    {
      "cell_type": "code",
      "source": [
        ""
      ],
      "metadata": {
        "id": "Xmsc56vbWuV1"
      },
      "execution_count": null,
      "outputs": []
    }
  ]
}