{
  "nbformat": 4,
  "nbformat_minor": 0,
  "metadata": {
    "colab": {
      "name": "OpenCV Python 영상 처리.ipynb",
      "provenance": [],
      "collapsed_sections": [],
      "authorship_tag": "ABX9TyOuI0IIWqm5PmaXKjJeL5/G",
      "include_colab_link": true
    },
    "kernelspec": {
      "name": "python3",
      "display_name": "Python 3"
    },
    "language_info": {
      "name": "python"
    }
  },
  "cells": [
    {
      "cell_type": "markdown",
      "metadata": {
        "id": "view-in-github",
        "colab_type": "text"
      },
      "source": [
        "<a href=\"https://colab.research.google.com/github/JinFree/OpenCV_in_Colab/blob/main/OpenCV_Python_%EC%98%81%EC%83%81_%EC%B2%98%EB%A6%AC.ipynb\" target=\"_parent\"><img src=\"https://colab.research.google.com/assets/colab-badge.svg\" alt=\"Open In Colab\"/></a>"
      ]
    },
    {
      "cell_type": "code",
      "execution_count": null,
      "metadata": {
        "id": "-cgj8_z2S85y"
      },
      "outputs": [],
      "source": [
        "# 실습용 데이터 다운로드\n",
        "!git clone https://github.com/JinFree/OpenCV_in_Ubuntu\n",
        "\n",
        "# 기본 라이브러리 Import\n",
        "import cv2\n",
        "import numpy as np\n",
        "import os\n",
        "from google.colab.patches import cv2_imshow"
      ]
    },
    {
      "cell_type": "code",
      "source": [
        "# 컬러 이미지 열기\n",
        "image_color = cv2.imread(\"/content/OpenCV_in_Ubuntu/Data/Lane_Detection_Images/solidWhiteCurve.jpg\", cv2.IMREAD_COLOR)\n",
        "cv2_imshow(image_color)\n",
        "# 회색조 이미지 열기\n",
        "image_gray = cv2.imread(\"/content/OpenCV_in_Ubuntu/Data/Lane_Detection_Images/solidWhiteCurve.jpg\", cv2.IMREAD_GRAYSCALE)\n",
        "cv2_imshow(image_gray)"
      ],
      "metadata": {
        "id": "ZaQwNSm5TDbX"
      },
      "execution_count": null,
      "outputs": []
    },
    {
      "cell_type": "markdown",
      "source": [
        "### 이미지 정보 확인\n",
        "\n",
        "\n"
      ],
      "metadata": {
        "id": "w_7VsQytWzNg"
      }
    },
    {
      "cell_type": "markdown",
      "source": [
        "너비, 높이\n",
        "\n",
        "\n",
        "```\n",
        "height, width = image.shape[0], image.shape[1]\n",
        "```"
      ],
      "metadata": {
        "id": "bBqeiXiKYGmW"
      }
    },
    {
      "cell_type": "code",
      "source": [
        "height, width = image_color.shape[0], image_color.shape[1]\n",
        "print(height, width)"
      ],
      "metadata": {
        "id": "Nf09mGsuYyJv"
      },
      "execution_count": null,
      "outputs": []
    },
    {
      "cell_type": "markdown",
      "source": [
        "\n",
        "이미지가 컬러 이미지인지 확인\n",
        "\n",
        "\n",
        "```\n",
        "if len(image.shape) == 2:\n",
        "    print(\"회색조 이미지\")\n",
        "elif len(image.shape) == 3:\n",
        "    print(\"컬러 이미지\")\n",
        "    if image.shape[2] == 3:\n",
        "        print(\"3채널 이미지\")\n",
        "    elif image.shape[2] == 4:\n",
        "        print(\"png 이미지를 unchanged로 연 경우, 4채널 이미지\")\n",
        "```\n"
      ],
      "metadata": {
        "id": "4zEdqljQYKuz"
      }
    },
    {
      "cell_type": "code",
      "source": [
        "def image_parameter(image):\n",
        "    if len(image.shape) == 2:\n",
        "        print(\"회색조 이미지\")\n",
        "    elif len(image.shape) == 3:\n",
        "        print(\"컬러 이미지\")\n",
        "        if image.shape[2] == 3:\n",
        "            print(\"3채널 이미지\")\n",
        "        elif image.shape[2] == 4:\n",
        "            print(\"png 이미지를 unchanged로 연 경우, 4채널 이미지\")"
      ],
      "metadata": {
        "id": "_yFAqAYrY5eS"
      },
      "execution_count": null,
      "outputs": []
    },
    {
      "cell_type": "code",
      "source": [
        "image_parameter(image_color)"
      ],
      "metadata": {
        "id": "5fo4jT0UZBmw"
      },
      "execution_count": null,
      "outputs": []
    },
    {
      "cell_type": "code",
      "source": [
        "image_parameter(image_gray)"
      ],
      "metadata": {
        "id": "2Be9jC2tZCRM"
      },
      "execution_count": null,
      "outputs": []
    },
    {
      "cell_type": "markdown",
      "source": [
        "픽셀 좌표 확인\n",
        "\n",
        "\n",
        "```\n",
        "컬러 이미지인 경우\n",
        "pixel_value = image[y, x, c]\n",
        "이 때, c가 None인 경우 pixel_value는 numpy array가 반환됨\n",
        "\n",
        "회색조 이미지인 경우\n",
        "pixel_value = image[y, x]\n",
        "```\n",
        "\n"
      ],
      "metadata": {
        "id": "W88Ki_ERYLZC"
      }
    },
    {
      "cell_type": "code",
      "source": [
        "y = 100\n",
        "x = 100\n",
        "pixel_value = image_color[y, x]\n",
        "print(pixel_value, type(pixel_value))\n",
        "\n",
        "b = image_color[y, x, 0]\n",
        "g = image_color[y, x, 1]\n",
        "r = image_color[y, x, 2]\n",
        "print(b, g, r)"
      ],
      "metadata": {
        "id": "9QnvE1sDZFWF"
      },
      "execution_count": null,
      "outputs": []
    },
    {
      "cell_type": "markdown",
      "source": [
        "픽셀 값 수정하기\n",
        "\n",
        "\n",
        "```\n",
        "컬러 이미지인 경우\n",
        "image[y, x, c] = pixel_value\n",
        "image[y, x] = [b, g, r]\n",
        "\n",
        "회색조 이미지인 경우\n",
        "image[y, x] = pixel_value\n",
        "```\n",
        "\n"
      ],
      "metadata": {
        "id": "HgWAihhFZmYJ"
      }
    },
    {
      "cell_type": "code",
      "source": [
        "y = 100\n",
        "x = 100\n",
        "image_color[y, x] = [10, 20, 30]\n",
        "print(image_color[y, x])\n",
        "\n",
        "\n",
        "image_gray[y, x] = 50\n",
        "print(image_gray[y, x])"
      ],
      "metadata": {
        "id": "ae3NY6ieZ3Vc"
      },
      "execution_count": null,
      "outputs": []
    },
    {
      "cell_type": "markdown",
      "source": [
        "### 실습\n",
        "\n",
        "/content/OpenCV_in_Ubuntu/Data/Road_Blackbox/image_01.png\n",
        "\n",
        "위 경로의 이미지를 연 후, 이미지의 너비와 높이, 채널 수를 확인하시오.\n",
        "그 후 x = 0, y = 0부터 x = 199, y = 199까지의 정사각형 영역을 검은색으로 바꾼 후 확인하시오."
      ],
      "metadata": {
        "id": "YKGbD-64aPVm"
      }
    },
    {
      "cell_type": "code",
      "source": [
        "### 여기에 실습을 진행하세요."
      ],
      "metadata": {
        "id": "6yUUDktnaOrf"
      },
      "execution_count": null,
      "outputs": []
    },
    {
      "cell_type": "markdown",
      "source": [
        "### 이미지 관심영역 자르고 붙이기\n",
        "\n",
        "\n",
        "\n",
        "```\n",
        "관심영역 자르기\n",
        "region_of_interest = image[y1:y2, x1:x2]\n",
        "\n",
        "이미지에 붙여넣기\n",
        "dst_height, dst_width = dst_image.shape[0], dst_image.shape[1]\n",
        "roi_height, roi_width =  roi_image.shape[0], roi_image.shape[1]\n",
        "\n",
        "if x1+roi_width <= dst_width and y1+roi_height <= dst_height:\n",
        "    dst_image[y1:y1+roi_height, x1:x1+roi_width] = roi_image\n",
        "\n",
        "```\n",
        "\n"
      ],
      "metadata": {
        "id": "Ta_MHyVTa-7N"
      }
    },
    {
      "cell_type": "code",
      "source": [
        "roi_image = image_color[300:350, 190:280]\n",
        "cv2_imshow(roi_image)\n",
        "\n",
        "roi_height, roi_width =  roi_image.shape[0], roi_image.shape[1]\n",
        "image_color_2 = np.copy(image_color)\n",
        "image_color_2[300:300+roi_height, 280:280+roi_width] = roi_image\n",
        "cv2_imshow(image_color_2)"
      ],
      "metadata": {
        "id": "abNsM093R-8L"
      },
      "execution_count": null,
      "outputs": []
    },
    {
      "cell_type": "markdown",
      "source": [
        "###채널 추출 및 병함\n",
        "\n",
        "채널 추출\n",
        "\n",
        "\n",
        "```\n",
        "ch1, ch2, ch3 = cv2.split(color_image)\n",
        "```\n",
        "채널 병합\n",
        "\n",
        "\n",
        "```\n",
        "color_image = cv2.merge((ch1, ch2, ch3))\n",
        "```\n",
        "\n",
        "\n",
        "\n"
      ],
      "metadata": {
        "id": "BdxaOQSFT1Px"
      }
    },
    {
      "cell_type": "code",
      "source": [
        "b, g, r = cv2.split(image_color)\n",
        "cv2_imshow(b)\n",
        "cv2_imshow(g)\n",
        "cv2_imshow(r)"
      ],
      "metadata": {
        "id": "g0uu66LuUJNg"
      },
      "execution_count": null,
      "outputs": []
    },
    {
      "cell_type": "code",
      "source": [
        "bgr_merged = cv2.merge((b, g, r))\n",
        "cv2_imshow(bgr_merged)"
      ],
      "metadata": {
        "id": "CNAFBN2wUVCE"
      },
      "execution_count": null,
      "outputs": []
    },
    {
      "cell_type": "markdown",
      "source": [
        "### 색공간\n",
        "\n",
        "색공간 변형\n",
        "\n",
        "\n",
        "```\n",
        "결과_이미지 = cv2.cvtColor(입력_이미지, flag)\n",
        "```\n",
        "[cvtColor flag에 대한 정보](https://docs.opencv.org/4.5.4/d8/d01/group__imgproc__color__conversions.html)\n"
      ],
      "metadata": {
        "id": "tbIlgkeAWK21"
      }
    },
    {
      "cell_type": "code",
      "source": [
        "hsv_image = cv2.cvtColor(image_color, cv2.COLOR_BGR2HSV)\n",
        "h, s, v = cv2.split(hsv_image)\n",
        "cv2_imshow(h)\n",
        "cv2_imshow(s)\n",
        "cv2_imshow(v)"
      ],
      "metadata": {
        "id": "Xmsc56vbWuV1"
      },
      "execution_count": null,
      "outputs": []
    },
    {
      "cell_type": "code",
      "source": [
        "hls_image = cv2.cvtColor(image_color, cv2.COLOR_BGR2HLS)\n",
        "h, l, s = cv2.split(hls_image)\n",
        "cv2_imshow(h)\n",
        "cv2_imshow(l)\n",
        "cv2_imshow(s)"
      ],
      "metadata": {
        "id": "yxoR38g4VZhE"
      },
      "execution_count": null,
      "outputs": []
    },
    {
      "cell_type": "code",
      "source": [
        "gray_image = cv2.cvtColor(image_color, cv2.COLOR_BGR2GRAY)\n",
        "cv2_imshow(gray_image)"
      ],
      "metadata": {
        "id": "Pv_BgKqDVtpI"
      },
      "execution_count": null,
      "outputs": []
    },
    {
      "cell_type": "markdown",
      "source": [
        "### 실습\n",
        "\n",
        "/content/OpenCV_in_Ubuntu/Data/TrafficLight_Detection/green_light_01.png\n",
        "\n",
        "위 경로의 이미지를 연 후, 입력된 이미지를 HLS 색공간으로 바꾼 후 각 채널을 분리하시오.\n",
        "S채널에서 x = 100, y = 220부터 x = 250, y = 330 까지 정사각형 영역의 픽셀값을 255로 바꾸시오.\n",
        "채널을 다시 합친 후 BGR로 바꿔서 확인하시오."
      ],
      "metadata": {
        "id": "5y-u3-TfWDij"
      }
    },
    {
      "cell_type": "code",
      "source": [
        "### 여기에 실습을 진행하세요.\n",
        "img = cv2.imread(\"/content/OpenCV_in_Ubuntu/Data/TrafficLight_Detection/green_light_01.png\", cv2.IMREAD_COLOR)\n",
        "hls = cv2.cvtColor(img, cv2.COLOR_BGR2HLS)\n",
        "h, l, s = cv2.split(hls)\n",
        "for y in range(220, 330):\n",
        "    for x in range(100, 250):\n",
        "        s[y, x] = 255\n",
        "hls2 = cv2.merge((h, l, s))\n",
        "bgr2 = cv2.cvtColor(hls2, cv2.COLOR_HLS2BGR)\n",
        "cv2_imshow(bgr2)"
      ],
      "metadata": {
        "id": "jw2phj59WLIb"
      },
      "execution_count": null,
      "outputs": []
    },
    {
      "cell_type": "code",
      "source": [
        ""
      ],
      "metadata": {
        "id": "wpeNbAsyXIYc"
      },
      "execution_count": null,
      "outputs": []
    }
  ]
}