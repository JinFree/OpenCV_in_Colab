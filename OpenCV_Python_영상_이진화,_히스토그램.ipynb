{
  "nbformat": 4,
  "nbformat_minor": 0,
  "metadata": {
    "colab": {
      "name": "OpenCV_Python_영상_이진화, 히스토그램.ipynb",
      "provenance": [],
      "collapsed_sections": [],
      "authorship_tag": "ABX9TyO0Sx53t9spSmO8Wpw5c3Bp",
      "include_colab_link": true
    },
    "kernelspec": {
      "name": "python3",
      "display_name": "Python 3"
    },
    "language_info": {
      "name": "python"
    }
  },
  "cells": [
    {
      "cell_type": "markdown",
      "metadata": {
        "id": "view-in-github",
        "colab_type": "text"
      },
      "source": [
        "<a href=\"https://colab.research.google.com/github/JinFree/OpenCV_in_Colab/blob/main/OpenCV_Python_%EC%98%81%EC%83%81_%EC%9D%B4%EC%A7%84%ED%99%94%2C_%ED%9E%88%EC%8A%A4%ED%86%A0%EA%B7%B8%EB%9E%A8.ipynb\" target=\"_parent\"><img src=\"https://colab.research.google.com/assets/colab-badge.svg\" alt=\"Open In Colab\"/></a>"
      ]
    },
    {
      "cell_type": "code",
      "execution_count": null,
      "metadata": {
        "id": "-cgj8_z2S85y"
      },
      "outputs": [],
      "source": [
        "# 실습용 데이터 다운로드\n",
        "!git clone https://github.com/JinFree/OpenCV_in_Ubuntu\n",
        "\n",
        "# 기본 라이브러리 Import\n",
        "import cv2\n",
        "import numpy as np\n",
        "import os\n",
        "from google.colab.patches import cv2_imshow"
      ]
    },
    {
      "cell_type": "code",
      "source": [
        "# 컬러 이미지 열기\n",
        "image_color = cv2.imread(\"/content/OpenCV_in_Ubuntu/Data/Lane_Detection_Images/solidWhiteCurve.jpg\", cv2.IMREAD_COLOR)\n",
        "cv2_imshow(image_color)\n",
        "# 회색조 이미지 열기\n",
        "image_gray = cv2.imread(\"/content/OpenCV_in_Ubuntu/Data/Lane_Detection_Images/solidWhiteCurve.jpg\", cv2.IMREAD_GRAYSCALE)\n",
        "cv2_imshow(image_gray)"
      ],
      "metadata": {
        "id": "ZaQwNSm5TDbX"
      },
      "execution_count": null,
      "outputs": []
    },
    {
      "cell_type": "markdown",
      "source": [
        "###영상 이진화\n",
        "\n",
        "\n",
        "```\n",
        "thresh = 128\n",
        "maxval = 255\n",
        "flag = cv2.THRESH_BINARY\n",
        "ret, dst_image = cv2.threshold(src_image, thresh, maxval, flag)\n",
        "단, src_image는 1채널 회색조 이미지\n",
        "```\n",
        "\n",
        "[threshold flags](https://docs.opencv.org/4.x/d7/d4d/tutorial_py_thresholding.html)"
      ],
      "metadata": {
        "id": "gCBRqXB80br0"
      }
    },
    {
      "cell_type": "code",
      "source": [
        "image = np.zeros((512, 512), np.uint8)\n",
        "for i in range(0, 512):\n",
        "    for j in range(0, 256):\n",
        "        image[i, j] = j\n",
        "    for j in range(256, 512):\n",
        "        image[i, j] = 255-j\n",
        "cv2_imshow(image)"
      ],
      "metadata": {
        "id": "HxS9dj-31gw5"
      },
      "execution_count": null,
      "outputs": []
    },
    {
      "cell_type": "code",
      "source": [
        "thresh = 128\n",
        "maxval = 255\n",
        "flag = cv2.THRESH_BINARY\n",
        "ret, dst_image = cv2.threshold(image, thresh, maxval, flag)\n",
        "cv2_imshow(dst_image)"
      ],
      "metadata": {
        "id": "z3MSWXBk2gII"
      },
      "execution_count": null,
      "outputs": []
    },
    {
      "cell_type": "code",
      "source": [
        "flag = cv2.THRESH_BINARY_INV\n",
        "ret, dst_image = cv2.threshold(image, thresh, maxval, flag)\n",
        "cv2_imshow(dst_image)"
      ],
      "metadata": {
        "id": "sqTDjzH02CmA"
      },
      "execution_count": null,
      "outputs": []
    },
    {
      "cell_type": "code",
      "source": [
        "flag = cv2.THRESH_TRUNC\n",
        "ret, dst_image = cv2.threshold(image, thresh, maxval, flag)\n",
        "cv2_imshow(dst_image)"
      ],
      "metadata": {
        "id": "-7pXvhhs2mPP"
      },
      "execution_count": null,
      "outputs": []
    },
    {
      "cell_type": "code",
      "source": [
        "flag = cv2.THRESH_TOZERO\n",
        "ret, dst_image = cv2.threshold(image, thresh, maxval, flag)\n",
        "cv2_imshow(dst_image)"
      ],
      "metadata": {
        "id": "q3XBC2Lz2sXU"
      },
      "execution_count": null,
      "outputs": []
    },
    {
      "cell_type": "code",
      "source": [
        "flag = cv2.THRESH_TOZERO_INV\n",
        "ret, dst_image = cv2.threshold(image, thresh, maxval, flag)\n",
        "cv2_imshow(dst_image)"
      ],
      "metadata": {
        "id": "PeTrnjAX2tlU"
      },
      "execution_count": null,
      "outputs": []
    },
    {
      "cell_type": "markdown",
      "source": [
        "###히스토그램"
      ],
      "metadata": {
        "id": "bnucbHjQ2wrB"
      }
    },
    {
      "cell_type": "markdown",
      "source": [
        "### 실습\n",
        "\n",
        "/content/OpenCV_in_Ubuntu/Data/Lane_Detection_Images/solidWhiteCurve.jpg\n",
        "\n",
        "위 경로의 이미지를 연 후, 가능한 모든 차량에 박스를 그리시오."
      ],
      "metadata": {
        "id": "5y-u3-TfWDij"
      }
    },
    {
      "cell_type": "code",
      "source": [
        "### 여기에 실습을 진행하세요."
      ],
      "metadata": {
        "id": "jw2phj59WLIb"
      },
      "execution_count": null,
      "outputs": []
    },
    {
      "cell_type": "markdown",
      "source": [
        "### 실습\n",
        "\n",
        "/content/OpenCV_in_Ubuntu/Data/Road_Blackbox/image_01.png\n",
        "\n",
        "(235, 325)를 중심으로 하는 원을  두 개 그리시오.\n",
        "1. 반지름이 50이고 (235,325)의 색을 그대로 그린 원, 두께는 5\n",
        "2. 반지름이 2이고 검은색인 원, 두께는 -1\n",
        "\n",
        "(10, 50)의 위치에 두께는 5이고 검은색인 \"ROAD_IMAGE\" 문자열을 그리시오."
      ],
      "metadata": {
        "id": "YKGbD-64aPVm"
      }
    },
    {
      "cell_type": "code",
      "source": [
        "### 여기에 실습을 진행하세요."
      ],
      "metadata": {
        "id": "6yUUDktnaOrf"
      },
      "execution_count": null,
      "outputs": []
    }
  ]
}